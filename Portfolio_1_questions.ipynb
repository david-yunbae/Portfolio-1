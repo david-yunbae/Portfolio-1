{
 "cells": [
  {
   "cell_type": "markdown",
   "id": "skHfgkqlqndO",
   "metadata": {
    "id": "skHfgkqlqndO"
   },
   "source": [
    "### Analysis of an E-commerce Dataset\n",
    "\n",
    "We have been provided with a combined e-commerce dataset. In this dataset, each user has the ability to post a rating and review for the products they purchased. Additionally, other users can evaluate the initial rating and review by expressing their trust or distrust.\n",
    "\n",
    "This dataset includes a wealth of information for each user. Details such as their profile, ID, gender, city of birth, product ratings (on a scale of 1-5), reviews, and the prices of the products they purchased are all included. Moreover, for each product rating, we have information about the product name, ID, price, and category, the rating score, the timestamp of the rating and review, and the average helpfulness of the rating given by others (on a scale of 1-5).\n",
    "\n",
    "The dataset is from several data sources, and we have merged all the data into a single CSV file named 'A Combined E-commerce Dataset.csv'. The structure of this dataset is represented in the header shown below.\n",
    "\n",
    "| userId | gender | rating | review| item | category | helpfulness | timestamp | item_id | item_price | user_city|\n",
    "\n",
    "    | ---- | ---- | ---- | ---- | ---- | ---- | ---- | ---- | ---- |  ---- |  ---- |  \n",
    "    \n",
    "#### Description of Fields\n",
    "\n",
    "* __userId__ - the user's id\n",
    "* __gender__ - the user's gender\n",
    "* __rating__ - the user's rating towards the item\n",
    "* __review__ - the user's review towards the item\n",
    "* __item__ - the item's name\n",
    "* __category__ - the category of the item\n",
    "* __helpfulness__ - the average helpfulness of this rating\n",
    "* __timestamp__ - the timestamp when the rating is created\n",
    "* __item_id__ - the item's id\n",
    "* __item_price__ - the item's price\n",
    "* __user_city__ - the city of user's birth\n",
    "\n",
    "Note that, a user may rate multiple items and an item may receive ratings and reviews from multiple users. The \"helpfulness\" is an average value based on all the helpfulness values given by others.\n",
    "\n",
    "There are four questions to explore with the data as shown below.\n",
    "\n",
    "\n",
    "\n",
    "<img src=\"data-relation.png\" align=\"left\" width=\"400\"/>\n",
    "(You can find the data relation diagram on iLearn - Portfolio Part 1 resources - Fig1)\n"
   ]
  },
  {
   "cell_type": "markdown",
   "id": "-tb7B7VTqndQ",
   "metadata": {
    "id": "-tb7B7VTqndQ"
   },
   "source": [
    " #### Q1. Remove missing data\n",
    "\n",
    "Please remove the following records in the csv file:\n",
    "\n",
    " * gender/rating/helpfulness is missing\n",
    " * review is 'none'\n",
    "\n",
    "__Display the DataFrame, counting number of Null values in each column, and print the length of the data__ before and after removing the missing data.  "
   ]
  },
  {
   "cell_type": "code",
   "execution_count": 1,
   "id": "1ecn6H9VqndQ",
   "metadata": {
    "id": "1ecn6H9VqndQ"
   },
   "outputs": [
    {
     "data": {
      "text/plain": [
       "'Display the DataFrame'"
      ]
     },
     "metadata": {},
     "output_type": "display_data"
    },
    {
     "data": {
      "text/html": [
       "<div>\n",
       "<style scoped>\n",
       "    .dataframe tbody tr th:only-of-type {\n",
       "        vertical-align: middle;\n",
       "    }\n",
       "\n",
       "    .dataframe tbody tr th {\n",
       "        vertical-align: top;\n",
       "    }\n",
       "\n",
       "    .dataframe thead th {\n",
       "        text-align: right;\n",
       "    }\n",
       "</style>\n",
       "<table border=\"1\" class=\"dataframe\">\n",
       "  <thead>\n",
       "    <tr style=\"text-align: right;\">\n",
       "      <th></th>\n",
       "      <th>userId</th>\n",
       "      <th>timestamp</th>\n",
       "      <th>review</th>\n",
       "      <th>item</th>\n",
       "      <th>rating</th>\n",
       "      <th>helpfulness</th>\n",
       "      <th>gender</th>\n",
       "      <th>category</th>\n",
       "      <th>item_id</th>\n",
       "      <th>item_price</th>\n",
       "      <th>user_city</th>\n",
       "    </tr>\n",
       "  </thead>\n",
       "  <tbody>\n",
       "    <tr>\n",
       "      <th>0</th>\n",
       "      <td>4051</td>\n",
       "      <td>12807</td>\n",
       "      <td>Great job for what it is!</td>\n",
       "      <td>eBay</td>\n",
       "      <td>5.0</td>\n",
       "      <td>2.0</td>\n",
       "      <td>F</td>\n",
       "      <td>Online Stores &amp; Services</td>\n",
       "      <td>88</td>\n",
       "      <td>149.00</td>\n",
       "      <td>39</td>\n",
       "    </tr>\n",
       "    <tr>\n",
       "      <th>1</th>\n",
       "      <td>4052</td>\n",
       "      <td>122899</td>\n",
       "      <td>Free Access Worth your Time</td>\n",
       "      <td>NetZero</td>\n",
       "      <td>5.0</td>\n",
       "      <td>0.0</td>\n",
       "      <td>F</td>\n",
       "      <td>Online Stores &amp; Services</td>\n",
       "      <td>46</td>\n",
       "      <td>53.00</td>\n",
       "      <td>39</td>\n",
       "    </tr>\n",
       "    <tr>\n",
       "      <th>2</th>\n",
       "      <td>33</td>\n",
       "      <td>12700</td>\n",
       "      <td>AOL..I love you!!!!!!!!!!!!</td>\n",
       "      <td>AOL (America Online)</td>\n",
       "      <td>5.0</td>\n",
       "      <td>4.0</td>\n",
       "      <td>F</td>\n",
       "      <td>Online Stores &amp; Services</td>\n",
       "      <td>0</td>\n",
       "      <td>145.84</td>\n",
       "      <td>31</td>\n",
       "    </tr>\n",
       "    <tr>\n",
       "      <th>3</th>\n",
       "      <td>33</td>\n",
       "      <td>21000</td>\n",
       "      <td>EBAY!!!  I LOVE YOU!!!! :-)*</td>\n",
       "      <td>eBay</td>\n",
       "      <td>5.0</td>\n",
       "      <td>4.0</td>\n",
       "      <td>F</td>\n",
       "      <td>Online Stores &amp; Services</td>\n",
       "      <td>88</td>\n",
       "      <td>149.00</td>\n",
       "      <td>31</td>\n",
       "    </tr>\n",
       "    <tr>\n",
       "      <th>4</th>\n",
       "      <td>33</td>\n",
       "      <td>22300</td>\n",
       "      <td>Blair Witch...Oh Come On.......</td>\n",
       "      <td>Blair Witch Project</td>\n",
       "      <td>1.0</td>\n",
       "      <td>4.0</td>\n",
       "      <td>F</td>\n",
       "      <td>Movies</td>\n",
       "      <td>12</td>\n",
       "      <td>44.00</td>\n",
       "      <td>31</td>\n",
       "    </tr>\n",
       "  </tbody>\n",
       "</table>\n",
       "</div>"
      ],
      "text/plain": [
       "   userId  timestamp                           review                  item  \\\n",
       "0    4051      12807        Great job for what it is!                  eBay   \n",
       "1    4052     122899      Free Access Worth your Time               NetZero   \n",
       "2      33      12700    AOL..I love you!!!!!!!!!!!!    AOL (America Online)   \n",
       "3      33      21000     EBAY!!!  I LOVE YOU!!!! :-)*                  eBay   \n",
       "4      33      22300  Blair Witch...Oh Come On.......   Blair Witch Project   \n",
       "\n",
       "   rating  helpfulness gender                  category  item_id  item_price  \\\n",
       "0     5.0          2.0      F  Online Stores & Services       88      149.00   \n",
       "1     5.0          0.0      F  Online Stores & Services       46       53.00   \n",
       "2     5.0          4.0      F  Online Stores & Services        0      145.84   \n",
       "3     5.0          4.0      F  Online Stores & Services       88      149.00   \n",
       "4     1.0          4.0      F                    Movies       12       44.00   \n",
       "\n",
       "   user_city  \n",
       "0         39  \n",
       "1         39  \n",
       "2         31  \n",
       "3         31  \n",
       "4         31  "
      ]
     },
     "metadata": {},
     "output_type": "display_data"
    },
    {
     "name": "stdout",
     "output_type": "stream",
     "text": [
      "\n",
      "counting number of Null values in each column\n",
      "\n",
      " userId          0\n",
      "timestamp       0\n",
      "review          0\n",
      "item            0\n",
      "rating         17\n",
      "helpfulness    22\n",
      "gender         27\n",
      "category        0\n",
      "item_id         0\n",
      "item_price      0\n",
      "user_city       0\n",
      "dtype: int64\n",
      "\n",
      "print the length of the data before\n",
      " 20000\n",
      "\n",
      "and after removing the missing data\n",
      " 19934\n"
     ]
    }
   ],
   "source": [
    "import pandas as pd\n",
    "BEFORE=pd.read_csv(\"The E-Commerce dataset.csv\")\n",
    "display(\"Display the DataFrame\",BEFORE.head())\n",
    "n_null=BEFORE.isnull().sum()\n",
    "print(\"\\ncounting number of Null values in each column\\n\\n\",n_null)\n",
    "AFTER=BEFORE.dropna()\n",
    "print(\"\\nprint the length of the data before\\n\",len(BEFORE))\n",
    "print(\"\\nand after removing the missing data\\n\",len(AFTER))"
   ]
  },
  {
   "cell_type": "markdown",
   "id": "EJG9_LEmqndR",
   "metadata": {
    "id": "EJG9_LEmqndR"
   },
   "source": [
    "#### Q2. Descriptive statistics\n",
    "\n",
    "With the cleaned data in Q1, please provide the data summarization as below:\n",
    "\n",
    "* Q2.1 total number of unique users, unique reviews, unique items, and unique categories\n",
    "* Q2.2 descriptive statistics, e.g., the total number, mean, std, min and max regarding all rating records\n",
    "* Q2.3 descriptive statistics, e.g., mean, std, max, and min of the number of items rated by different genders\n",
    "* Q2.4 descriptive statistics, e.g., mean, std, max, min of the number of ratings that received by each items\n"
   ]
  },
  {
   "cell_type": "code",
   "execution_count": 13,
   "id": "-fiucmwsqndR",
   "metadata": {
    "id": "-fiucmwsqndR"
   },
   "outputs": [
    {
     "name": "stdout",
     "output_type": "stream",
     "text": [
      "Q2.1 total number of unique users\n",
      " 8565\n",
      "\n",
      "Q2.1 total number of unique reviews\n",
      " 19460\n",
      "\n",
      "Q2.1 total number of unique items\n",
      " 89\n",
      "\n",
      "Q2.1 total number of unique categories\n",
      " 9\n",
      "\n",
      "\n",
      "Q2.2 total number of all rating records\n",
      " 19934\n",
      "\n",
      "Q2.2 mean regarding all rating records\n",
      " 3.701414668405739\n",
      "\n",
      "Q2.2 mean regarding all rating records\n",
      " 1.40454608926479\n",
      "\n",
      "Q2.2 mean regarding all rating records\n",
      " 1.0\n",
      "\n",
      "Q2.2 mean regarding all rating records\n",
      " 5.0\n",
      "\n",
      "\n",
      "Q2.3 just to check there is only M or F for gender selection\n",
      " 2\n",
      "\n",
      "Q2.3 number of items rated by males\n",
      " 10135\n",
      "\n",
      "Q2.3 number of items rated by females\n",
      " 9799\n",
      "\n",
      "Q2.3 mean of the number of items rated by different genders\n",
      " 9967.0\n",
      "\n",
      "Q2.3 std of the number of items rated by different genders\n",
      " 0\n",
      "\n",
      "Q2.3 min of the number of items rated by different genders\n",
      " 9799\n",
      "\n",
      "Q2.3 max of the number of items rated by different genders\n",
      " 10135 \n",
      "\n",
      "\n"
     ]
    },
    {
     "data": {
      "text/plain": [
       "'Q2.4 Number of ratings per each item'"
      ]
     },
     "metadata": {},
     "output_type": "display_data"
    },
    {
     "data": {
      "text/html": [
       "<div>\n",
       "<style scoped>\n",
       "    .dataframe tbody tr th:only-of-type {\n",
       "        vertical-align: middle;\n",
       "    }\n",
       "\n",
       "    .dataframe tbody tr th {\n",
       "        vertical-align: top;\n",
       "    }\n",
       "\n",
       "    .dataframe thead th {\n",
       "        text-align: right;\n",
       "    }\n",
       "</style>\n",
       "<table border=\"1\" class=\"dataframe\">\n",
       "  <thead>\n",
       "    <tr style=\"text-align: right;\">\n",
       "      <th></th>\n",
       "      <th>count</th>\n",
       "    </tr>\n",
       "    <tr>\n",
       "      <th>item</th>\n",
       "      <th></th>\n",
       "    </tr>\n",
       "  </thead>\n",
       "  <tbody>\n",
       "    <tr>\n",
       "      <th>AOL (America Online)</th>\n",
       "      <td>941</td>\n",
       "    </tr>\n",
       "    <tr>\n",
       "      <th>All Advantage</th>\n",
       "      <td>657</td>\n",
       "    </tr>\n",
       "    <tr>\n",
       "      <th>eBay</th>\n",
       "      <td>596</td>\n",
       "    </tr>\n",
       "    <tr>\n",
       "      <th>McDonald's</th>\n",
       "      <td>416</td>\n",
       "    </tr>\n",
       "    <tr>\n",
       "      <th>NetZero</th>\n",
       "      <td>351</td>\n",
       "    </tr>\n",
       "  </tbody>\n",
       "</table>\n",
       "</div>"
      ],
      "text/plain": [
       "                      count\n",
       "item                       \n",
       "AOL (America Online)    941\n",
       "All Advantage           657\n",
       "eBay                    596\n",
       "McDonald's              416\n",
       "NetZero                 351"
      ]
     },
     "metadata": {},
     "output_type": "display_data"
    },
    {
     "name": "stdout",
     "output_type": "stream",
     "text": [
      "\n",
      "Q2.4 mean of the number of ratings that are received by each items\n",
      " 223.97752808988764\n",
      "\n",
      "Q2.4 std of the number of ratings that are received by each items\n",
      " 116.6085114552974\n",
      "\n",
      "Q2.4 min of the number of ratings that are received by each items\n",
      " 139.0\n",
      "\n",
      "Q2.4 max of the number of ratings that are received by each items\n",
      " 941.0\n"
     ]
    }
   ],
   "source": [
    "print(\"Q2.1 total number of unique users\\n\",AFTER['userId'].nunique())\n",
    "print(\"\\nQ2.1 total number of unique reviews\\n\",AFTER['review'].nunique())\n",
    "print(\"\\nQ2.1 total number of unique items\\n\",AFTER['item'].nunique())\n",
    "print(\"\\nQ2.1 total number of unique categories\\n\",AFTER['category'].nunique())\n",
    "print(\"\\n\\nQ2.2 total number of all rating records\\n\",len(AFTER['rating']))\n",
    "stats=AFTER['rating'].describe()\n",
    "print(\"\\nQ2.2 mean regarding all rating records\\n\",stats['mean'])\n",
    "print(\"\\nQ2.2 mean regarding all rating records\\n\",stats['std'])\n",
    "print(\"\\nQ2.2 mean regarding all rating records\\n\",stats['min'])\n",
    "print(\"\\nQ2.2 mean regarding all rating records\\n\",stats['max'])\n",
    "print(\"\\n\\nQ2.3 just to check there is only M or F for gender selection\\n\",AFTER['gender'].nunique())\n",
    "n_M=AFTER['gender'].value_counts()['M']\n",
    "n_F=AFTER['gender'].value_counts()['F']\n",
    "print(\"\\nQ2.3 number of items rated by males\\n\",n_M)\n",
    "print(\"\\nQ2.3 number of items rated by females\\n\",n_F)\n",
    "print(\"\\nQ2.3 mean of the number of items rated by different genders\\n\",(n_M+n_F)/2)\n",
    "print(\"\\nQ2.3 std of the number of items rated by different genders\\n\",0)\n",
    "print(\"\\nQ2.3 min of the number of items rated by different genders\\n\",min(n_M,n_F))\n",
    "print(\"\\nQ2.3 max of the number of items rated by different genders\\n\",max(n_M,n_F),\"\\n\\n\")\n",
    "NEWDF=AFTER['item'].value_counts()\n",
    "NEWDF=pd.DataFrame(NEWDF)\n",
    "NEWDF.columns=['count']\n",
    "stats=NEWDF['count'].describe()\n",
    "display(\"Q2.4 Number of ratings per each item\",NEWDF.head())\n",
    "print(\"\\nQ2.4 mean of the number of ratings that are received by each items\\n\",stats['mean'])\n",
    "print(\"\\nQ2.4 std of the number of ratings that are received by each items\\n\",stats['std'])\n",
    "print(\"\\nQ2.4 min of the number of ratings that are received by each items\\n\",stats['min'])\n",
    "print(\"\\nQ2.4 max of the number of ratings that are received by each items\\n\",stats['max'])"
   ]
  },
  {
   "cell_type": "markdown",
   "id": "PISggxe5qndR",
   "metadata": {
    "id": "PISggxe5qndR"
   },
   "source": [
    "#### Q3. Plotting and Analysis\n",
    "\n",
    "Please try to explore the correlation between gender/helpfulness/category and ratings; for instance, do female/male users tend to provide higher ratings than male/female users? Hint: you may use the boxplot function to plot figures for comparison (___Challenge___)\n",
    "    \n",
    "You may need to select the most suitable graphic forms for ease of presentation. Most importantly, for each figure or subfigure, please summarise ___what each plot shows___ (i.e. observations and explanations). Finally, you may need to provide an overall summary of the data."
   ]
  },
  {
   "cell_type": "code",
   "execution_count": 71,
   "id": "Zyuvw_WlqndR",
   "metadata": {
    "id": "Zyuvw_WlqndR"
   },
   "outputs": [
    {
     "name": "stdout",
     "output_type": "stream",
     "text": [
      "Q3.1 Correlation between gender and ratings\n",
      "\n",
      "\n"
     ]
    },
    {
     "data": {
      "image/png": "[encoded data removed]",
      "text/plain": [
       "<Figure size 800x600 with 1 Axes>"
      ]
     },
     "metadata": {},
     "output_type": "display_data"
    },
    {
     "name": "stdout",
     "output_type": "stream",
     "text": [
      "\n",
      "Above boxplot shows almost no difference of rating distribution between the genders.\n",
      "\n",
      "\n",
      "Conduct a t-test.\n",
      "Null Hypothesis: There is no difference in ratings between male and female users\n",
      "Alt Hypothesis: Not null\n",
      "\n",
      "t-statistic:  -1.551802664283532\n",
      "\n",
      "P-value:  0.12072532506277635\n",
      "\n",
      "\n",
      "Since p-value is greater than 0.05, Enough evidence to retain the null hypethesis: There is no difference in ratings between male and female users.\n",
      "\n",
      "\n",
      "Q3.2 Correlation between helpfulness and ratings\n",
      "\n",
      "\n",
      "               rating  helpfulness\n",
      "rating       1.000000    -0.000717\n",
      "helpfulness -0.000717     1.000000\n"
     ]
    },
    {
     "data": {
      "image/png": "[encoded data removed]",
      "text/plain": [
       "<Figure size 800x600 with 1 Axes>"
      ]
     },
     "metadata": {},
     "output_type": "display_data"
    },
    {
     "name": "stdout",
     "output_type": "stream",
     "text": [
      "\n",
      "The above boxplot shows majority of users chose 4 as the helpfulness. This suggests a limitation to the meaningfulness of the helpfulness data. The correlation is close to zero. Using the two results, it seems to be safe to conclude that there is no correlation between helpfulness and ratings.\n",
      "\n",
      "\n",
      "Q3.3 Correlation between category and ratings\n",
      "\n",
      "\n"
     ]
    },
    {
     "data": {
      "text/plain": [
       "<Figure size 1200x800 with 0 Axes>"
      ]
     },
     "metadata": {},
     "output_type": "display_data"
    },
    {
     "data": {
      "image/png": "[encoded data removed]",
      "text/plain": [
       "<Figure size 640x480 with 1 Axes>"
      ]
     },
     "metadata": {},
     "output_type": "display_data"
    },
    {
     "name": "stdout",
     "output_type": "stream",
     "text": [
      "\n",
      "Observing distributions and medians, there seems to be some significant differences. For example, media and games have very different ratings. This is a hint we have a correlation between category and ratings.\n",
      "\n",
      "\n",
      "\n",
      "\n",
      "conduct ANOVA test.\n",
      "\n",
      "Null hypothesis: The mean ratings of all categories are equal.\n",
      "Alt hypothesis: Not null.\n",
      "\n",
      "F-statistic: 161.08393853219957\n",
      "P-value: 2.602433059327111e-264\n",
      "\n",
      "With very small p-value, there is enough evidence to reject the null hypothesis: There is at least one group mean that is significantly different from the others. This conclusion is equivalent to the statement that there is a correlation between category and ratings.\n"
     ]
    }
   ],
   "source": [
    "import matplotlib.pyplot as plt\n",
    "RATINGBYM = AFTER[AFTER['gender'] == 'M']['rating']\n",
    "RATINGBYF = AFTER[AFTER['gender'] == 'F']['rating']\n",
    "\n",
    "print(\"Q3.1 Correlation between gender and ratings\\n\\n\")\n",
    "\n",
    "plt.figure(figsize=(8, 6))\n",
    "plt.boxplot([RATINGBYM.values, RATINGBYF.values], labels=['Male', 'Female'])\n",
    "plt.title('Rating Distribution by Gender')\n",
    "plt.xlabel('Gender')\n",
    "plt.ylabel('Rating')\n",
    "plt.show()\n",
    "\n",
    "print(\"\\nAbove boxplot shows almost no difference of rating distribution between the genders.\\n\\n\")\n",
    "\n",
    "\n",
    "from scipy.stats import ttest_ind\n",
    "\n",
    "R_Ｍ=AFTER[AFTER['gender']=='M']['rating']\n",
    "R_F=AFTER[AFTER['gender']=='F']['rating']\n",
    "\n",
    "t_stat, p_value=ttest_ind(R_M,R_F)\n",
    "\n",
    "print(\"Conduct a t-test.\\nNull Hypothesis: There is no difference in ratings between male and female users\\nAlt Hypothesis: Not null\\n\\nt-statistic: \",t_stat)\n",
    "print(\"\\nP-value: \",p_value)\n",
    "print(\"\\n\\nSince p-value is greater than 0.05, Enough evidence to retain the null hypethesis: There is no difference in ratings between male and female users.\")\n",
    "\n",
    "\n",
    "print(\"\\n\\nQ3.2 Correlation between helpfulness and ratings\\n\\n\")\n",
    "\n",
    "HELPFULNESS=AFTER[['rating','helpfulness']]\n",
    "\n",
    "corr=HELPFULNESS.corr(method='pearson')\n",
    "\n",
    "print(corr)\n",
    "\n",
    "plt.figure(figsize=(8, 6))\n",
    "plt.boxplot([AFTER['rating'], AFTER['helpfulness']], labels=['Rating', 'Helpfulness'])\n",
    "plt.title('Boxplot of Rating and Helpfulness')\n",
    "plt.ylabel('Values')\n",
    "plt.show()\n",
    "\n",
    "print(\"\\nThe above boxplot shows majority of users chose 4 as the helpfulness. This suggests a limitation to the meaningfulness of the helpfulness data. The correlation is close to zero. Using the two results, it seems to be safe to conclude that there is no correlation between helpfulness and ratings.\")\n",
    "\n",
    "print(\"\\n\\nQ3.3 Correlation between category and ratings\\n\\n\")\n",
    "\n",
    "plt.figure(figsize=(12, 8))\n",
    "AFTER.boxplot(column='rating', by='category', vert=False)\n",
    "plt.xlabel('Rating')\n",
    "plt.ylabel('Category')\n",
    "plt.show()\n",
    "\n",
    "print(\"\\nObserving distributions and medians, there seems to be some significant differences. For example, media and games have very different ratings. This is a hint we have a correlation between category and ratings.\\n\\n\")\n",
    "\n",
    "from scipy.stats import f_oneway\n",
    "\n",
    "anova = f_oneway(*[group[\"rating\"] for name, group in AFTER.groupby(\"category\")])\n",
    "\n",
    "print(\"\\n\\nconduct ANOVA test.\\n\\nNull hypothesis: The mean ratings of all categories are equal.\\nAlt hypothesis: Not null.\\n\")\n",
    "\n",
    "print(\"F-statistic:\", anova.statistic)\n",
    "print(\"P-value:\", anova.pvalue)\n",
    "\n",
    "print(\"\\nWith very small p-value, there is enough evidence to reject the null hypothesis: There is at least one group mean that is significantly different from the others. This conclusion is equivalent to the statement that there is a correlation between category and ratings.\")"
   ]
  },
  {
   "cell_type": "markdown",
   "id": "TxD3SLxRqndR",
   "metadata": {
    "id": "TxD3SLxRqndR"
   },
   "source": [
    "#### Q4. Detect and remove outliers\n",
    "\n",
    "We may define outlier users, reviews and items with three rules (if a record meets one of the rules, it is regarded as an outlier):\n",
    "\n",
    "1. reviews of which the helpfulness is no more than 2\n",
    "2. users who rate less than 7 items\n",
    "3. items that receives less than 11 ratings\n",
    "\n",
    "Please remove the corresponding records in the csv file that involves outlier users, reviews and items. You need to follow the order of rules to perform data cleaning operations. After that, __print the length of the data__."
   ]
  },
  {
   "cell_type": "code",
   "execution_count": 75,
   "id": "JaQJmew4qndR",
   "metadata": {
    "id": "JaQJmew4qndR"
   },
   "outputs": [
    {
     "name": "stdout",
     "output_type": "stream",
     "text": [
      "\n",
      "\n",
      "Q4 Removing corresponding records\n",
      "\n",
      "Please note I chose counter-removing method: I just kept filtering down by conditions that counter the given conditions.\n",
      "\n",
      " 2696\n"
     ]
    }
   ],
   "source": [
    "AFTERAFTER=AFTER[AFTER['helpfulness']>2]\n",
    "userCOUNT=AFTERAFTER['userId'].value_counts()\n",
    "validUSER=userCOUNT[userCOUNT>6].index\n",
    "AFTERAFTER=AFTERAFTER[AFTERAFTER['userId'].isin(validUSER)]\n",
    "itemCOUNT=AFTERAFTER.groupby('item')['rating'].count()\n",
    "validITEM=itemCOUNT[itemCOUNT>10].index\n",
    "AFTERAFTER=AFTERAFTER[AFTERAFTER['item'].isin(validITEM)]\n",
    "print(\"\\n\\nQ4 Removing corresponding records\\n\")\n",
    "print(\"Please note I chose counter-removing method: I just kept filtering down by conditions that counter the given conditions:\\n\\n\",len(AFTERAFTER))"
   ]
  }
 ],
 "metadata": {
  "colab": {
   "provenance": []
  },
  "kernelspec": {
   "display_name": "Python 3 (ipykernel)",
   "language": "python",
   "name": "python3"
  },
  "language_info": {
   "codemirror_mode": {
    "name": "ipython",
    "version": 3
   },
   "file_extension": ".py",
   "mimetype": "text/x-python",
   "name": "python",
   "nbconvert_exporter": "python",
   "pygments_lexer": "ipython3",
   "version": "3.11.5"
  }
 },
 "nbformat": 4,
 "nbformat_minor": 5
}
